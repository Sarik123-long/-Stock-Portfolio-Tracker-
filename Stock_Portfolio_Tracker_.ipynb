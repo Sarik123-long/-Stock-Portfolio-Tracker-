{
  "nbformat": 4,
  "nbformat_minor": 0,
  "metadata": {
    "colab": {
      "provenance": []
    },
    "kernelspec": {
      "name": "python3",
      "display_name": "Python 3"
    },
    "language_info": {
      "name": "python"
    }
  },
  "cells": [
    {
      "cell_type": "code",
      "execution_count": null,
      "metadata": {
        "colab": {
          "base_uri": "https://localhost:8080/"
        },
        "id": "XM-11VYJf_k-",
        "outputId": "01aaf6eb-b172-4efd-e927-1bdefbe124fc"
      },
      "outputs": [
        {
          "output_type": "stream",
          "name": "stdout",
          "text": [
            "Requirement already satisfied: streamlit in /usr/local/lib/python3.11/dist-packages (1.47.0)\n",
            "Requirement already satisfied: pyngrok in /usr/local/lib/python3.11/dist-packages (7.2.12)\n",
            "Requirement already satisfied: altair<6,>=4.0 in /usr/local/lib/python3.11/dist-packages (from streamlit) (5.5.0)\n",
            "Requirement already satisfied: blinker<2,>=1.5.0 in /usr/local/lib/python3.11/dist-packages (from streamlit) (1.9.0)\n",
            "Requirement already satisfied: cachetools<7,>=4.0 in /usr/local/lib/python3.11/dist-packages (from streamlit) (5.5.2)\n",
            "Requirement already satisfied: click<9,>=7.0 in /usr/local/lib/python3.11/dist-packages (from streamlit) (8.2.1)\n",
            "Requirement already satisfied: numpy<3,>=1.23 in /usr/local/lib/python3.11/dist-packages (from streamlit) (2.0.2)\n",
            "Requirement already satisfied: packaging<26,>=20 in /usr/local/lib/python3.11/dist-packages (from streamlit) (24.2)\n",
            "Requirement already satisfied: pandas<3,>=1.4.0 in /usr/local/lib/python3.11/dist-packages (from streamlit) (2.2.2)\n",
            "Requirement already satisfied: pillow<12,>=7.1.0 in /usr/local/lib/python3.11/dist-packages (from streamlit) (11.2.1)\n",
            "Requirement already satisfied: protobuf<7,>=3.20 in /usr/local/lib/python3.11/dist-packages (from streamlit) (5.29.5)\n",
            "Requirement already satisfied: pyarrow>=7.0 in /usr/local/lib/python3.11/dist-packages (from streamlit) (18.1.0)\n",
            "Requirement already satisfied: requests<3,>=2.27 in /usr/local/lib/python3.11/dist-packages (from streamlit) (2.32.3)\n",
            "Requirement already satisfied: tenacity<10,>=8.1.0 in /usr/local/lib/python3.11/dist-packages (from streamlit) (8.5.0)\n",
            "Requirement already satisfied: toml<2,>=0.10.1 in /usr/local/lib/python3.11/dist-packages (from streamlit) (0.10.2)\n",
            "Requirement already satisfied: typing-extensions<5,>=4.4.0 in /usr/local/lib/python3.11/dist-packages (from streamlit) (4.14.1)\n",
            "Requirement already satisfied: watchdog<7,>=2.1.5 in /usr/local/lib/python3.11/dist-packages (from streamlit) (6.0.0)\n",
            "Requirement already satisfied: gitpython!=3.1.19,<4,>=3.0.7 in /usr/local/lib/python3.11/dist-packages (from streamlit) (3.1.44)\n",
            "Requirement already satisfied: pydeck<1,>=0.8.0b4 in /usr/local/lib/python3.11/dist-packages (from streamlit) (0.9.1)\n",
            "Requirement already satisfied: tornado!=6.5.0,<7,>=6.0.3 in /usr/local/lib/python3.11/dist-packages (from streamlit) (6.4.2)\n",
            "Requirement already satisfied: PyYAML>=5.1 in /usr/local/lib/python3.11/dist-packages (from pyngrok) (6.0.2)\n",
            "Requirement already satisfied: jinja2 in /usr/local/lib/python3.11/dist-packages (from altair<6,>=4.0->streamlit) (3.1.6)\n",
            "Requirement already satisfied: jsonschema>=3.0 in /usr/local/lib/python3.11/dist-packages (from altair<6,>=4.0->streamlit) (4.24.0)\n",
            "Requirement already satisfied: narwhals>=1.14.2 in /usr/local/lib/python3.11/dist-packages (from altair<6,>=4.0->streamlit) (1.47.0)\n",
            "Requirement already satisfied: gitdb<5,>=4.0.1 in /usr/local/lib/python3.11/dist-packages (from gitpython!=3.1.19,<4,>=3.0.7->streamlit) (4.0.12)\n",
            "Requirement already satisfied: python-dateutil>=2.8.2 in /usr/local/lib/python3.11/dist-packages (from pandas<3,>=1.4.0->streamlit) (2.9.0.post0)\n",
            "Requirement already satisfied: pytz>=2020.1 in /usr/local/lib/python3.11/dist-packages (from pandas<3,>=1.4.0->streamlit) (2025.2)\n",
            "Requirement already satisfied: tzdata>=2022.7 in /usr/local/lib/python3.11/dist-packages (from pandas<3,>=1.4.0->streamlit) (2025.2)\n",
            "Requirement already satisfied: charset-normalizer<4,>=2 in /usr/local/lib/python3.11/dist-packages (from requests<3,>=2.27->streamlit) (3.4.2)\n",
            "Requirement already satisfied: idna<4,>=2.5 in /usr/local/lib/python3.11/dist-packages (from requests<3,>=2.27->streamlit) (3.10)\n",
            "Requirement already satisfied: urllib3<3,>=1.21.1 in /usr/local/lib/python3.11/dist-packages (from requests<3,>=2.27->streamlit) (2.4.0)\n",
            "Requirement already satisfied: certifi>=2017.4.17 in /usr/local/lib/python3.11/dist-packages (from requests<3,>=2.27->streamlit) (2025.7.14)\n",
            "Requirement already satisfied: smmap<6,>=3.0.1 in /usr/local/lib/python3.11/dist-packages (from gitdb<5,>=4.0.1->gitpython!=3.1.19,<4,>=3.0.7->streamlit) (5.0.2)\n",
            "Requirement already satisfied: MarkupSafe>=2.0 in /usr/local/lib/python3.11/dist-packages (from jinja2->altair<6,>=4.0->streamlit) (3.0.2)\n",
            "Requirement already satisfied: attrs>=22.2.0 in /usr/local/lib/python3.11/dist-packages (from jsonschema>=3.0->altair<6,>=4.0->streamlit) (25.3.0)\n",
            "Requirement already satisfied: jsonschema-specifications>=2023.03.6 in /usr/local/lib/python3.11/dist-packages (from jsonschema>=3.0->altair<6,>=4.0->streamlit) (2025.4.1)\n",
            "Requirement already satisfied: referencing>=0.28.4 in /usr/local/lib/python3.11/dist-packages (from jsonschema>=3.0->altair<6,>=4.0->streamlit) (0.36.2)\n",
            "Requirement already satisfied: rpds-py>=0.7.1 in /usr/local/lib/python3.11/dist-packages (from jsonschema>=3.0->altair<6,>=4.0->streamlit) (0.26.0)\n",
            "Requirement already satisfied: six>=1.5 in /usr/local/lib/python3.11/dist-packages (from python-dateutil>=2.8.2->pandas<3,>=1.4.0->streamlit) (1.17.0)\n",
            "Authtoken saved to configuration file: /root/.config/ngrok/ngrok.yml\n"
          ]
        }
      ],
      "source": [
        "!pip install streamlit pyngrok\n",
        "!ngrok config add-authtoken 2zzqGw4XNUa1NaYpfzxXif9w20h_6MJdp8SKo9us71Vd89DhJ\n",
        "\n",
        "\n"
      ]
    },
    {
      "cell_type": "code",
      "source": [
        "import os\n",
        "from pyngrok import ngrok\n",
        "from threading import Thread\n",
        "\n",
        "# Write the Streamlit app code to app.py\n",
        "app_code = \"\"\"\n",
        "import streamlit as st\n",
        "import pandas as pd\n",
        "\n",
        "stock_prices = {\n",
        "    \"AAPL\": 180,\n",
        "    \"TSLA\": 250,\n",
        "    \"GOOGL\": 2700,\n",
        "    \"MSFT\": 300,\n",
        "    \"AMZN\": 3500\n",
        "}\n",
        "\n",
        "st.title(\"📈 Stock Portfolio Tracker\")\n",
        "\n",
        "st.write(\"Enter your stocks and quantities (one per line) in the format: STOCK_SYMBOL, QUANTITY\")\n",
        "stock_input = st.text_area(\"Example:\\\\nAAPL, 10\\\\nTSLA, 5\\\\nGOOGL, 2\")\n",
        "\n",
        "if st.button(\"Calculate Total Investment\"):\n",
        "    portfolio = {}\n",
        "    total_value = 0\n",
        "    invalid = []\n",
        "\n",
        "    lines = stock_input.strip().split('\\\\n')\n",
        "    for line in lines:\n",
        "        try:\n",
        "            stock, qty = line.split(\",\")\n",
        "            stock = stock.strip().upper()\n",
        "            qty = int(qty.strip())\n",
        "            if stock not in stock_prices:\n",
        "                invalid.append(stock)\n",
        "                continue\n",
        "            portfolio[stock] = portfolio.get(stock, 0) + qty\n",
        "        except:\n",
        "            st.error(f\"Invalid input format in line: '{line}'. Use 'STOCK_SYMBOL, QUANTITY'\")\n",
        "            st.stop()\n",
        "\n",
        "    if invalid:\n",
        "        st.warning(f\"Price info not available for: {', '.join(set(invalid))}\")\n",
        "\n",
        "    if portfolio:\n",
        "        st.write(\"### Portfolio Summary:\")\n",
        "        data = []\n",
        "        for stock, qty in portfolio.items():\n",
        "            price = stock_prices[stock]\n",
        "            value = price * qty\n",
        "            total_value += value\n",
        "            st.write(f\"{stock}: {qty} shares × ${price} = ${value}\")\n",
        "            data.append({\n",
        "                \"Stock\": stock,\n",
        "                \"Quantity\": qty,\n",
        "                \"Price per Share\": price,\n",
        "                \"Total Value\": value\n",
        "            })\n",
        "\n",
        "        st.write(f\"### Total Investment Value: ${total_value}\")\n",
        "\n",
        "        df = pd.DataFrame(data)\n",
        "        df.loc['Total'] = [\"\", \"\", \"\", total_value]\n",
        "\n",
        "        csv = df.to_csv(index=False).encode('utf-8')\n",
        "        st.download_button(\n",
        "            label=\"Download Portfolio Summary CSV\",\n",
        "            data=csv,\n",
        "            file_name=\"portfolio_summary.csv\",\n",
        "            mime=\"text/csv\"\n",
        "        )\n",
        "    else:\n",
        "        st.info(\"Please enter at least one valid stock and quantity.\")\n",
        "\"\"\"\n",
        "\n",
        "with open(\"app.py\", \"w\") as f:\n",
        "    f.write(app_code)\n",
        "\n",
        "# Kill any old ngrok tunnels (just in case)\n",
        "!pkill ngrok > /dev/null 2>&1 || echo \"No existing ngrok process.\"\n",
        "ngrok.kill()\n",
        "\n",
        "\n",
        "# Function to run Streamlit app\n",
        "def run_streamlit():\n",
        "    os.system(\"streamlit run app.py\")\n",
        "\n",
        "# Start ngrok tunnel on port 8501\n",
        "public_url = ngrok.connect(8501).public_url\n",
        "print(f\"🚀 Streamlit app live at: {public_url}\")\n",
        "\n",
        "# Run Streamlit app in background thread\n",
        "Thread(target=run_streamlit, daemon=True).start()"
      ],
      "metadata": {
        "colab": {
          "base_uri": "https://localhost:8080/"
        },
        "id": "3YJAuMTEgBrQ",
        "outputId": "daec2b09-df38-45a1-ef29-91653ce7f2d2"
      },
      "execution_count": 61,
      "outputs": [
        {
          "output_type": "stream",
          "name": "stdout",
          "text": [
            "No existing ngrok process.\n",
            "🚀 Streamlit app live at: https://9cc8cea63125.ngrok-free.app\n"
          ]
        }
      ]
    }
  ]
}